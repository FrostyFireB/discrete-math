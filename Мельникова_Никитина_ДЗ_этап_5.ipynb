{
  "nbformat": 4,
  "nbformat_minor": 0,
  "metadata": {
    "colab": {
      "name": "Мельникова_Никитина_ДЗ_этап_5.ipynb",
      "provenance": [],
      "collapsed_sections": [],
      "authorship_tag": "ABX9TyNPP8uCOHhxyCjkZXmbEZ8d",
      "include_colab_link": true
    },
    "kernelspec": {
      "name": "python3",
      "display_name": "Python 3"
    },
    "language_info": {
      "name": "python"
    }
  },
  "cells": [
    {
      "cell_type": "markdown",
      "metadata": {
        "id": "view-in-github",
        "colab_type": "text"
      },
      "source": [
        "<a href=\"https://colab.research.google.com/github/lnik-m/discrete-math/blob/main/%D0%9C%D0%B5%D0%BB%D1%8C%D0%BD%D0%B8%D0%BA%D0%BE%D0%B2%D0%B0_%D0%9D%D0%B8%D0%BA%D0%B8%D1%82%D0%B8%D0%BD%D0%B0_%D0%94%D0%97_%D1%8D%D1%82%D0%B0%D0%BF_5.ipynb\" target=\"_parent\"><img src=\"https://colab.research.google.com/assets/colab-badge.svg\" alt=\"Open In Colab\"/></a>"
      ]
    },
    {
      "cell_type": "markdown",
      "source": [
        "Построить СДНФ для формулы по некоторой корректной таблице истинности.\n",
        "\n",
        "Формат ввода: вводится число k от 2 до 5 -- число переменных в формуле. Далее вводится через пробел 2^k строчек 0 и 1 длины k + 1 соответствующих значениям аргументов и соответственно значению функции. В качестве вывода ожидается СДНФ\n",
        "\n",
        "Рассмотрим в качестве примера функцию xor.\n",
        "\n",
        "*Пример ввода:*\n",
        "\n",
        "2\n",
        "\n",
        "0 0 0\n",
        "\n",
        "1 1 0\n",
        "\n",
        "1 0 1\n",
        "\n",
        "0 1 1\n",
        "\n",
        "*Пример вывода:*\n",
        "\n",
        "a^(-b)+b^(-a)"
      ],
      "metadata": {
        "id": "lVZPAVzuBzYX"
      }
    },
    {
      "cell_type": "code",
      "source": [
        "k = int(input()) # получаем количество переменных таблицы истинности\n",
        "\n",
        "table = []\n",
        "\n",
        "for i in range(k**2):\n",
        "  currentString = list(map(int, input().split(' ')))\n",
        "\n",
        "  args = currentString[:-1]\n",
        "  F = currentString[-1]\n",
        "\n",
        "  if F == 1:\n",
        "    table.append(args) # если функция дала 1, то добавляем строку в нашу подтаблицу\n",
        "\n",
        "\n",
        "alphabet = 'abcdefghijklmnopqrstuvwxyz'\n",
        "totalActions = []\n",
        "\n",
        "for i in table:\n",
        "  currentAction = []\n",
        "\n",
        "  for j in range(k):\n",
        "    if i[j]==0:\n",
        "      currentAction.append('(-' + alphabet[j] + ')') # если текущий аргумент 0, то его добавляем с отрицанием\n",
        "    else:\n",
        "      currentAction.append(alphabet[j]) # если текущий аргумент 1, то его просто добавляем\n",
        "    \n",
        "  totalActions.append('^'.join(currentAction)) # добавляем текущее действие в список всех действий, ставя между ними знак конъюнкции\n",
        "\n",
        "print('+'.join(totalActions)) # выводим итоговый результат, ставя между действиями знак дизъюнкции"
      ],
      "metadata": {
        "colab": {
          "base_uri": "https://localhost:8080/"
        },
        "id": "1rHQUqdPA5a5",
        "outputId": "a991c8ad-1942-4ddb-a2f7-371449f8a6e4"
      },
      "execution_count": null,
      "outputs": [
        {
          "output_type": "stream",
          "name": "stdout",
          "text": [
            "2\n",
            "0 0 0\n",
            "1 1 0\n",
            "1 0 1\n",
            "0 1 1\n",
            "a^(-b)+(-a)^b\n"
          ]
        }
      ]
    }
  ]
}