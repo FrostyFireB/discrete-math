{
  "nbformat": 4,
  "nbformat_minor": 0,
  "metadata": {
    "colab": {
      "name": "stage 4_nikitina.ipynb",
      "provenance": [],
      "toc_visible": true,
      "authorship_tag": "ABX9TyP/4NXB/Ysm3jiwiyNfZDnm",
      "include_colab_link": true
    },
    "kernelspec": {
      "name": "python3",
      "display_name": "Python 3"
    },
    "language_info": {
      "name": "python"
    }
  },
  "cells": [
    {
      "cell_type": "markdown",
      "metadata": {
        "id": "view-in-github",
        "colab_type": "text"
      },
      "source": [
        "<a href=\"https://colab.research.google.com/github/ksenia312/discrete-math/blob/main/Nikitina/stage_4_nikitina.ipynb\" target=\"_parent\"><img src=\"https://colab.research.google.com/assets/colab-badge.svg\" alt=\"Open In Colab\"/></a>"
      ]
    },
    {
      "cell_type": "markdown",
      "source": [
        "##**Домашняя работа**\n",
        "---\n"
      ],
      "metadata": {
        "id": "d0Mk0NOTvggo"
      }
    },
    {
      "cell_type": "code",
      "source": [
        "import heapq\n",
        "import string\n",
        "from collections import Counter"
      ],
      "metadata": {
        "id": "06-pXIERex7j"
      },
      "execution_count": 1,
      "outputs": []
    },
    {
      "cell_type": "markdown",
      "source": [
        "###**Этап 4:** Реализация \n",
        "---\n",
        "Написать **алгоритм Хаффмана** для данной строки\n",
        "\n",
        "Пример ввода: `абдддддддд`\n",
        "\n",
        "Пример вывода:\n",
        "\n",
        "```\n",
        "б 11\n",
        "д 0```\n",
        "```\n",
        "\n"
      ],
      "metadata": {
        "id": "v2W9eAjkIRsi"
      }
    },
    {
      "cell_type": "markdown",
      "source": [
        "####Класс узла для дерева\n",
        "---"
      ],
      "metadata": {
        "id": "9uA083vgKVd4"
      }
    },
    {
      "cell_type": "code",
      "source": [
        "class Node:\n",
        "    def __init__(self, letter=None, freq=0, children=None):\n",
        "        self.letter = letter\n",
        "        self.freq = freq\n",
        "        self.children = children or []\n",
        "\n",
        "    def pair(self):\n",
        "        return (self.freq, ord(self.letter) if self.letter else -1)\n",
        "\n",
        "    def __lt__(self, some):\n",
        "        return self.pair() < some.pair()"
      ],
      "metadata": {
        "id": "1CQ0zgUqb2eW"
      },
      "execution_count": 2,
      "outputs": []
    },
    {
      "cell_type": "markdown",
      "source": [
        "#### Функции для реализации\n",
        "\n",
        "---\n",
        "\n",
        "1.   Получение словаря вида `{буква: частота}`\n",
        "2.   Получение закодированного словаря вида `{буква: код} `\n",
        "3.   Функция для печати словаря\n"
      ],
      "metadata": {
        "id": "xEmfyGohniYD"
      }
    },
    {
      "cell_type": "code",
      "source": [
        "def get_dict(node, code=''):\n",
        "    if not node.letter:\n",
        "        res = {}\n",
        "        for char, num in zip(node.children, string.hexdigits):\n",
        "            res.update(get_dict(char, code + num))\n",
        "        return res\n",
        "    else:\n",
        "        return {node.letter: code}"
      ],
      "metadata": {
        "id": "0Zrgk-2LfCvC"
      },
      "execution_count": 9,
      "outputs": []
    },
    {
      "cell_type": "code",
      "source": [
        "def get_encoded_dict(text):\n",
        "    nodes = list(map(lambda item: Node(item[0], item[1]), Counter(text).items()))\n",
        "    heapq.heapify(nodes)\n",
        "    while len(nodes) >= 2:\n",
        "        children = [heapq.heappop(nodes) for _ in range(2)]\n",
        "        current = Node(freq = sum([child.freq for child in children]))\n",
        "        current.children = children\n",
        "        heapq.heappush(nodes, current)\n",
        "    return get_dict(nodes[0])"
      ],
      "metadata": {
        "id": "l2Fe1hire_va"
      },
      "execution_count": 4,
      "outputs": []
    },
    {
      "cell_type": "code",
      "source": [
        "def print_dict(dict):\n",
        "  print('')\n",
        "  for key in dict:\n",
        "    print(f'{key} {dict[key]}')"
      ],
      "metadata": {
        "id": "jN0ZRJmzl4wh"
      },
      "execution_count": 5,
      "outputs": []
    },
    {
      "cell_type": "markdown",
      "source": [
        "###**Этап 4:** Ввести строку\n",
        "---\n",
        "Введите строку в появившемся поле для ввода"
      ],
      "metadata": {
        "id": "h99Wv5rmoHFo"
      }
    },
    {
      "cell_type": "code",
      "source": [
        "encoded_dict = get_encoded_dict(input())\n",
        "print_dict(encoded_dict)"
      ],
      "metadata": {
        "colab": {
          "base_uri": "https://localhost:8080/"
        },
        "id": "YgKmchk7mjUv",
        "outputId": "b8fc4174-30f7-4eef-ebfb-750aed29f312"
      },
      "execution_count": 10,
      "outputs": [
        {
          "output_type": "stream",
          "name": "stdout",
          "text": [
            "dfgdfgdf\n",
            "\n",
            "f 0\n",
            "g 10\n",
            "d 11\n"
          ]
        }
      ]
    }
  ]
}