{
  "nbformat": 4,
  "nbformat_minor": 0,
  "metadata": {
    "colab": {
      "name": "stage 8_nikitina_melnikova.ipynb",
      "provenance": [],
      "collapsed_sections": [],
      "toc_visible": true,
      "authorship_tag": "ABX9TyN1koa7XdKp9VT3zNXtdvYC",
      "include_colab_link": true
    },
    "kernelspec": {
      "name": "python3",
      "display_name": "Python 3"
    },
    "language_info": {
      "name": "python"
    }
  },
  "cells": [
    {
      "cell_type": "markdown",
      "metadata": {
        "id": "view-in-github",
        "colab_type": "text"
      },
      "source": [
        "<a href=\"https://colab.research.google.com/github/ksenia312/discrete-math/blob/main/Nikitina/stage_8_nikitina_melnikova.ipynb\" target=\"_parent\"><img src=\"https://colab.research.google.com/assets/colab-badge.svg\" alt=\"Open In Colab\"/></a>"
      ]
    },
    {
      "cell_type": "markdown",
      "source": [
        "##**Домашняя работа**\n",
        "---\n"
      ],
      "metadata": {
        "id": "_X97aI_DFqQc"
      }
    },
    {
      "cell_type": "markdown",
      "source": [
        "###**Этап 8:** Реализация \n",
        "Найти минимальные расстояния в орграфе от некоторой вершины до всех остальных при помощи алгоритма bfs. Ребра могут иметь вес 1 или 2\n",
        "\n",
        "Формат ввода: в первой строке n, m, k. k номер вершины, n количество вершин, m количество рёбер. На следующих m строках по три числа from, to, weight\n"
      ],
      "metadata": {
        "id": "7WMnwZdtF0JB"
      }
    },
    {
      "cell_type": "markdown",
      "source": [
        "####Функция bfs\n",
        "---"
      ],
      "metadata": {
        "id": "h5s2iiI7WV38"
      }
    },
    {
      "cell_type": "code",
      "execution_count": null,
      "metadata": {
        "id": "gqgym5-973JR"
      },
      "outputs": [],
      "source": [
        "def bfs(graph, node, n): \n",
        "  prev_neighbour=[]\n",
        "  visited = [node] \n",
        "  queue = [[node, 0]]    \n",
        "  res = []\n",
        "  prev_neighbour = []\n",
        "\n",
        "  while queue:\n",
        "    current = queue.pop(0)\n",
        "    if (current[0] ==node and current[1]!=0):\n",
        "      pass\n",
        "    else:\n",
        "      res.append(current)\n",
        "\n",
        "    for neighbour in graph[current[0]]:\n",
        "      if neighbour[0] not in visited:\n",
        "        visited.append(neighbour[0])\n",
        "        if (current[0]==node):\n",
        "          queue.append(neighbour)\n",
        "        else:\n",
        "          queue.append([neighbour[0], neighbour[1]+prev_neighbour[1]])\n",
        "      prev_neighbour = neighbour\n",
        "      \n",
        "  sorted_res = []\n",
        "  for i in range(1, n+1):\n",
        "    flag = i\n",
        "    for j in res:\n",
        "      if int(j[0]) == i:\n",
        "        sorted_res.append(j)\n",
        "        flag = -1\n",
        "    if (flag == i):\n",
        "      sorted_res.append([str(i), 'Нет пути'])\n",
        "  for i in list(map(lambda x: 'Длина кратчайшего пути от вершины '+ node +' до вершины '+ x[0] + ' --- ' + str(x[1]) + '', sorted_res)):\n",
        "    print(i)\n",
        "  print('Ответ: ')\n",
        "  for i in sorted_res:\n",
        "    print(i[1], end = ' ')"
      ]
    },
    {
      "cell_type": "markdown",
      "source": [
        "####Функция ввода\n",
        "---"
      ],
      "metadata": {
        "id": "6FIxoGToWUlU"
      }
    },
    {
      "cell_type": "code",
      "source": [
        "def input_values():\n",
        "  (n, m, k) = (map(int, input().split(' ')))\n",
        "  list_input = []\n",
        "  for num in range(m):\n",
        "    list_input.append(list(map(int, input().split(' '))))\n",
        "  dict_graph = {}\n",
        "  graph = [str(i) for i in range(1, m+1)]\n",
        "  for i in graph:\n",
        "    dict_graph[i[0]] = []\n",
        "  for row in list_input:\n",
        "    dict_graph[str(row[0])].append([str(row[1]), row[2]])\n",
        "  print(f\"Количество вершин n: {n}.\")\n",
        "  print(f\"Количество ребер m: {m}.\")\n",
        "  print(f\"Номер вершины, для которой применяем алгоритм k: {k}.\")\n",
        "  bfs(dict_graph, str(k), n)"
      ],
      "metadata": {
        "id": "3lU3aV8b_UcT"
      },
      "execution_count": null,
      "outputs": []
    },
    {
      "cell_type": "markdown",
      "source": [
        "###**Этап 8:** Ввести данные\n",
        "---\n"
      ],
      "metadata": {
        "id": "aU6_SupSWZ88"
      }
    },
    {
      "cell_type": "markdown",
      "source": [
        "Пример ввода:\n",
        "\n",
        "```\n",
        "3 3 2\n",
        "1 2 2\n",
        "2 1 2\n",
        "2 3 1\n",
        "```\n",
        "Формат вывода: n чисел где каждое число это минимальное расстояние от вершины k до остальных\n",
        "\n",
        "Пример вывода:\n",
        "\n",
        "```\n",
        "2 0 1\n",
        "```\n"
      ],
      "metadata": {
        "id": "LdriEeq1H-3U"
      }
    },
    {
      "cell_type": "code",
      "source": [
        "input_values()"
      ],
      "metadata": {
        "colab": {
          "base_uri": "https://localhost:8080/"
        },
        "id": "CaADd2m6Vy0w",
        "outputId": "3b789284-341f-45f0-c8d8-1758180950c8"
      },
      "execution_count": null,
      "outputs": [
        {
          "output_type": "stream",
          "name": "stdout",
          "text": [
            "3 3 2\n",
            "1 2 2\n",
            "2 1 2\n",
            "2 3 1\n",
            "Количество вершин n: 3.\n",
            "Количество ребер m: 3.\n",
            "Номер вершины, для которой применяем алгоритм k: 2.\n",
            "Длина кратчайшего пути от вершины 2 до вершины 1 --- 2\n",
            "Длина кратчайшего пути от вершины 2 до вершины 2 --- 0\n",
            "Длина кратчайшего пути от вершины 2 до вершины 3 --- 1\n",
            "Ответ: \n",
            "2 0 1 "
          ]
        }
      ]
    },
    {
      "cell_type": "code",
      "source": [
        "input_values()"
      ],
      "metadata": {
        "colab": {
          "base_uri": "https://localhost:8080/"
        },
        "id": "ohsuCYvkW5mm",
        "outputId": "0c9cfb94-e036-4901-b5f3-4e76d02abaa9"
      },
      "execution_count": null,
      "outputs": [
        {
          "output_type": "stream",
          "name": "stdout",
          "text": [
            "3 3 1\n",
            "1 2 2\n",
            "2 1 2\n",
            "2 3 1\n",
            "Количество вершин n: 3.\n",
            "Количество ребер m: 3.\n",
            "Номер вершины, для которой применяем алгоритм k: 1.\n",
            "Длина кратчайшего пути от вершины 1 до вершины 1 --- 0\n",
            "Длина кратчайшего пути от вершины 1 до вершины 2 --- 2\n",
            "Длина кратчайшего пути от вершины 1 до вершины 3 --- 3\n",
            "Ответ: \n",
            "0 2 3 "
          ]
        }
      ]
    },
    {
      "cell_type": "code",
      "source": [
        "input_values()"
      ],
      "metadata": {
        "colab": {
          "base_uri": "https://localhost:8080/"
        },
        "id": "Sjn4C8ObX_IX",
        "outputId": "ac7bd283-041c-4a73-8e69-abc2de6acf2b"
      },
      "execution_count": null,
      "outputs": [
        {
          "output_type": "stream",
          "name": "stdout",
          "text": [
            "3 3 3\n",
            "1 2 2\n",
            "2 1 2\n",
            "2 3 1\n",
            "Количество вершин n: 3.\n",
            "Количество ребер m: 3.\n",
            "Номер вершины, для которой применяем алгоритм k: 3.\n",
            "Длина кратчайшего пути от вершины 3 до вершины 1 --- Нет пути\n",
            "Длина кратчайшего пути от вершины 3 до вершины 2 --- Нет пути\n",
            "Длина кратчайшего пути от вершины 3 до вершины 3 --- 0\n",
            "Ответ: \n",
            "Нет пути Нет пути 0 "
          ]
        }
      ]
    }
  ]
}