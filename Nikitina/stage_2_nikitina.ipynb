{
  "nbformat": 4,
  "nbformat_minor": 0,
  "metadata": {
    "colab": {
      "name": "stage 2_nikitina.ipynb",
      "provenance": [],
      "toc_visible": true,
      "authorship_tag": "ABX9TyNVl/bU/16s5gEUzAxl9ZKx",
      "include_colab_link": true
    },
    "kernelspec": {
      "name": "python3",
      "display_name": "Python 3"
    },
    "language_info": {
      "name": "python"
    }
  },
  "cells": [
    {
      "cell_type": "markdown",
      "metadata": {
        "id": "view-in-github",
        "colab_type": "text"
      },
      "source": [
        "<a href=\"https://colab.research.google.com/github/ksenia312/discrete-math/blob/main/Nikitina/stage_2_nikitina.ipynb\" target=\"_parent\"><img src=\"https://colab.research.google.com/assets/colab-badge.svg\" alt=\"Open In Colab\"/></a>"
      ]
    },
    {
      "cell_type": "markdown",
      "source": [
        "##**Домашняя работа**\n",
        "---\n"
      ],
      "metadata": {
        "id": "d0Mk0NOTvggo"
      }
    },
    {
      "cell_type": "code",
      "source": [
        "import numpy as np"
      ],
      "metadata": {
        "id": "_YSehq48OnF8"
      },
      "execution_count": 4,
      "outputs": []
    },
    {
      "cell_type": "markdown",
      "source": [
        "###**Этап 2:** Реализация \n",
        "---\n",
        "Написать генератор булеанов данного числового множества"
      ],
      "metadata": {
        "id": "Hz9U7bLZMSMg"
      }
    },
    {
      "cell_type": "markdown",
      "source": [
        "####Функции для вывода и преобразования\n",
        "---"
      ],
      "metadata": {
        "id": "JdBHRslmQF9B"
      }
    },
    {
      "cell_type": "code",
      "source": [
        "def toСorrectSet(entered):\n",
        "    try:\n",
        "      S = list(map(int, entered.split()))\n",
        "      if sorted(S) != sorted(list(set(S))):\n",
        "          print('Ваш ввод {', end='')\n",
        "          print(*S, sep=', ', end='')\n",
        "          S = set(S)\n",
        "          print('} преобразован в', S)\n",
        "          return set(S)\n",
        "      else:\n",
        "          return set(S)\n",
        "    except:\n",
        "      print('Неверный ввод')\n",
        " "
      ],
      "metadata": {
        "id": "yi6x5tmOv3OM"
      },
      "execution_count": 5,
      "outputs": []
    },
    {
      "cell_type": "code",
      "source": [
        "def printSet(S):\n",
        "  if len(S)>0:\n",
        "    print(*S, sep=' ', end='')\n",
        "  else:\n",
        "     print(\"\\u2205\")"
      ],
      "metadata": {
        "id": "KVcwr4aYQFfS"
      },
      "execution_count": 6,
      "outputs": []
    },
    {
      "cell_type": "code",
      "source": [
        "def printSets(arr):\n",
        "  for s in arr:\n",
        "    print(*s if s else '\\u2205')"
      ],
      "metadata": {
        "id": "YUGgqrt7nfQb"
      },
      "execution_count": 7,
      "outputs": []
    },
    {
      "cell_type": "markdown",
      "source": [
        "####Основная\n",
        "---"
      ],
      "metadata": {
        "id": "IV5xpfPbxEds"
      }
    },
    {
      "cell_type": "code",
      "source": [
        "def to_list_of_binary(n, list_len):\n",
        "    res = ''\n",
        "    while n > 0:\n",
        "        res = str(n % 2) + res\n",
        "        n = n // 2\n",
        "    if len(res) < list_len:\n",
        "        res = ''.join(['0' for _ in range(list_len - len(res))]) + res\n",
        "    return [int(k) for k in list(res)]\n",
        "\n",
        "def sortByLen(S:set):\n",
        "        return len(S)\n",
        "\n",
        "def boolean(S:set):\n",
        "    length = len(S)\n",
        "    S = list(S)\n",
        "    subsets = []\n",
        "    for decimalMask in range(2 ** length):\n",
        "        mask = to_list_of_binary(decimalMask, length)\n",
        "        subset = []\n",
        "        for i in range(0, length):\n",
        "            if mask[i]:\n",
        "                subset.append(S[i])\n",
        "        if subset:\n",
        "          subsets.append(set(subset))\n",
        "        else:\n",
        "          subsets.append({})\n",
        "    subsets.sort(key=sortByLen)\n",
        "    print('Исходное: ', *set(S), '\\n')    \n",
        "    printSets(subsets) "
      ],
      "metadata": {
        "id": "mlILrADPKOjv"
      },
      "execution_count": 8,
      "outputs": []
    },
    {
      "cell_type": "markdown",
      "source": [
        "###**Этап 2:** Ввести множество\n",
        "---"
      ],
      "metadata": {
        "id": "-ZqAhcdPnFfY"
      }
    },
    {
      "cell_type": "code",
      "source": [
        "A = toСorrectSet(input())"
      ],
      "metadata": {
        "id": "t29NqP6RLlPF",
        "colab": {
          "base_uri": "https://localhost:8080/"
        },
        "outputId": "b492fa38-dd65-40ea-84b5-a49c117b0a8c"
      },
      "execution_count": 9,
      "outputs": [
        {
          "name": "stdout",
          "output_type": "stream",
          "text": [
            "1 2 3 4\n"
          ]
        }
      ]
    },
    {
      "cell_type": "code",
      "source": [
        "boolean(A)"
      ],
      "metadata": {
        "id": "cMMkQZqjNn3O",
        "colab": {
          "base_uri": "https://localhost:8080/"
        },
        "outputId": "5e0de899-6aac-4739-adcb-25c1d37d72eb"
      },
      "execution_count": 10,
      "outputs": [
        {
          "output_type": "stream",
          "name": "stdout",
          "text": [
            "Исходное:  1 2 3 4 \n",
            "\n",
            "∅\n",
            "4\n",
            "3\n",
            "2\n",
            "1\n",
            "3 4\n",
            "2 4\n",
            "2 3\n",
            "1 4\n",
            "1 3\n",
            "1 2\n",
            "2 3 4\n",
            "1 3 4\n",
            "1 2 4\n",
            "1 2 3\n",
            "1 2 3 4\n"
          ]
        }
      ]
    }
  ]
}