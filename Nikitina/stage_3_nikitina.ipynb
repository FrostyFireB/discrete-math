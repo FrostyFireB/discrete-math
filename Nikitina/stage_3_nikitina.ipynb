{
  "nbformat": 4,
  "nbformat_minor": 0,
  "metadata": {
    "colab": {
      "name": "stage 3_nikitina.ipynb",
      "provenance": [],
      "toc_visible": true,
      "authorship_tag": "ABX9TyP2FHSVIegpBuF4mdJ4DsH+",
      "include_colab_link": true
    },
    "kernelspec": {
      "name": "python3",
      "display_name": "Python 3"
    },
    "language_info": {
      "name": "python"
    }
  },
  "cells": [
    {
      "cell_type": "markdown",
      "metadata": {
        "id": "view-in-github",
        "colab_type": "text"
      },
      "source": [
        "<a href=\"https://colab.research.google.com/github/ksenia312/discrete-math/blob/main/Nikitina/stage_3_nikitina.ipynb\" target=\"_parent\"><img src=\"https://colab.research.google.com/assets/colab-badge.svg\" alt=\"Open In Colab\"/></a>"
      ]
    },
    {
      "cell_type": "markdown",
      "source": [
        "##**Домашняя работа**\n",
        "---\n"
      ],
      "metadata": {
        "id": "d0Mk0NOTvggo"
      }
    },
    {
      "cell_type": "code",
      "source": [
        "import numpy as np"
      ],
      "metadata": {
        "id": "_YSehq48OnF8"
      },
      "execution_count": 1,
      "outputs": []
    },
    {
      "cell_type": "markdown",
      "source": [
        "###**Этап 3:** Реализация \n",
        "---\n",
        "Написать проверятор по данному графу его **симметричности, транзитивности, рефлексивности, антитранзитивности, антирефлексивности, антисимметричности**\n",
        "\n",
        "Формат ввода: два числа. Первое --- число вершин в графе. Второе --- число ребер. Далее идет список из ребер, каждое из которых соединяет пару чисел. Ребра нумеруются с 0."
      ],
      "metadata": {
        "id": "v2W9eAjkIRsi"
      }
    },
    {
      "cell_type": "markdown",
      "source": [
        "####Функция для ввода\n",
        "---"
      ],
      "metadata": {
        "id": "9uA083vgKVd4"
      }
    },
    {
      "cell_type": "code",
      "source": [
        "def enterGraph():\n",
        "  vertices_edges = list(map(int, input().split()))\n",
        "  pairs = []\n",
        "  for i in range(vertices_edges[1]):\n",
        "    pairs.append(list(map(int, input().split())))\n",
        "  return pairs"
      ],
      "metadata": {
        "id": "Ac9BWazoJh-U"
      },
      "execution_count": 2,
      "outputs": []
    },
    {
      "cell_type": "markdown",
      "source": [
        "####Симметричность и антисимметричность\n",
        "---"
      ],
      "metadata": {
        "id": "_ZZBTcTWKZ4o"
      }
    },
    {
      "cell_type": "code",
      "source": [
        "import numpy as np"
      ],
      "metadata": {
        "id": "78hrDcXdO0eJ"
      },
      "execution_count": 3,
      "outputs": []
    },
    {
      "cell_type": "code",
      "source": [
        "def IsSymmetric(pairs):\n",
        "  toCompare = []\n",
        "  for pair in pairs:\n",
        "    toCompare.append(list(reversed(pair)))\n",
        "  for pair in toCompare:\n",
        "    if not pair in pairs:\n",
        "      return\n",
        "  print('симметрично')"
      ],
      "metadata": {
        "id": "HUrblBBSKX7H"
      },
      "execution_count": 4,
      "outputs": []
    },
    {
      "cell_type": "code",
      "source": [
        "def IsAntiSymmetric(pairs):\n",
        "  toCompare = []\n",
        "  for pair in pairs:\n",
        "    toCompare.append(list(reversed(pair)))\n",
        "  for pairInd in range(len(toCompare)):\n",
        "    if toCompare[pairInd] in pairs and toCompare[pairInd] != pairs[pairInd]:\n",
        "      return\n",
        "  print('антисимметрично')"
      ],
      "metadata": {
        "id": "OpQFi8JNP_kp"
      },
      "execution_count": 5,
      "outputs": []
    },
    {
      "cell_type": "markdown",
      "source": [
        "####Транзитивность, и антитранзитивность\n",
        "---"
      ],
      "metadata": {
        "id": "wU3-0UHvRPaB"
      }
    },
    {
      "cell_type": "code",
      "source": [
        "def IsTransitive(pairs):\n",
        "  count_false, count_true = 0, 0\n",
        "  seconds_in_pair = [pair[1] for pair in pairs]\n",
        "  for pair in pairs:\n",
        "    for second_elem in seconds_in_pair:\n",
        "      if [pair[1], second_elem] in pairs and [pair[0], second_elem] not in pairs:\n",
        "           print('антитранзитивно')\n",
        "           return\n",
        "  print('транзитивно')"
      ],
      "metadata": {
        "id": "iwzR7QPXOSbA"
      },
      "execution_count": 6,
      "outputs": []
    },
    {
      "cell_type": "markdown",
      "source": [
        "####Рефлексивность, и антирефлексивность\n",
        "---"
      ],
      "metadata": {
        "id": "iT0FpC4FpDZo"
      }
    },
    {
      "cell_type": "code",
      "source": [
        "def IsReflective(pairs):\n",
        "  peaks = []\n",
        "  for pair in pairs:\n",
        "    if not pair[0] in peaks:\n",
        "      peaks.append(pair[0])\n",
        "    if not pair[1] in peaks:\n",
        "      peaks.append(pair[1])    \n",
        "  for peak in peaks:\n",
        "    if not [peak, peak] in pairs:\n",
        "      return\n",
        "  print('рефлексивно')"
      ],
      "metadata": {
        "id": "7qN72v_wozc7"
      },
      "execution_count": 7,
      "outputs": []
    },
    {
      "cell_type": "code",
      "source": [
        "def IsAntiReflective(pairs):\n",
        "  peaks = []\n",
        "  for pair in pairs:\n",
        "    if not pair[0] in peaks:\n",
        "      peaks.append(pair[0])\n",
        "    if not pair[1] in peaks:\n",
        "      peaks.append(pair[1])\n",
        "  for peak in peaks:\n",
        "    if [peak, peak] in pairs:\n",
        "      return\n",
        "  print('антирефлексивно')"
      ],
      "metadata": {
        "id": "qUPSfZV7qX01"
      },
      "execution_count": 8,
      "outputs": []
    },
    {
      "cell_type": "markdown",
      "source": [
        "###**Этап 3:** Ввести ребра\n",
        "---"
      ],
      "metadata": {
        "id": "o9E3o_yGqwmZ"
      }
    },
    {
      "cell_type": "code",
      "source": [
        "pairs = enterGraph()\n",
        "IsSymmetric(pairs)\n",
        "IsAntiSymmetric(pairs)\n",
        "IsTransitive(pairs)\n",
        "IsReflective(pairs)\n",
        "IsAntiReflective(pairs)"
      ],
      "metadata": {
        "colab": {
          "base_uri": "https://localhost:8080/"
        },
        "id": "cVUrhJc6q1Zr",
        "outputId": "18776d3f-2623-4d3e-e9f2-95ed5f7d0f13"
      },
      "execution_count": 9,
      "outputs": [
        {
          "output_type": "stream",
          "name": "stdout",
          "text": [
            "3 3\n",
            "0 1\n",
            "1 2\n",
            "2 0\n",
            "антисимметрично\n",
            "антитранзитивно\n",
            "антирефлексивно\n"
          ]
        }
      ]
    }
  ]
}