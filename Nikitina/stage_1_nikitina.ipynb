{
  "nbformat": 4,
  "nbformat_minor": 0,
  "metadata": {
    "colab": {
      "name": "stage 1_nikitina.ipynb",
      "provenance": [],
      "toc_visible": true,
      "authorship_tag": "ABX9TyNaWe1stdbfdofDNs9z2bHS",
      "include_colab_link": true
    },
    "kernelspec": {
      "name": "python3",
      "display_name": "Python 3"
    },
    "language_info": {
      "name": "python"
    }
  },
  "cells": [
    {
      "cell_type": "markdown",
      "metadata": {
        "id": "view-in-github",
        "colab_type": "text"
      },
      "source": [
        "<a href=\"https://colab.research.google.com/github/ksenia312/discrete-math/blob/main/Nikitina/stage_1_nikitina.ipynb\" target=\"_parent\"><img src=\"https://colab.research.google.com/assets/colab-badge.svg\" alt=\"Open In Colab\"/></a>"
      ]
    },
    {
      "cell_type": "markdown",
      "source": [
        "##**Домашняя работа**\n",
        "---\n"
      ],
      "metadata": {
        "id": "d0Mk0NOTvggo"
      }
    },
    {
      "cell_type": "code",
      "source": [
        "import numpy as np"
      ],
      "metadata": {
        "id": "_YSehq48OnF8"
      },
      "execution_count": null,
      "outputs": []
    },
    {
      "cell_type": "markdown",
      "source": [
        "###**Этап 1:** Реализация \n",
        "---\n",
        "Написать объединятор(u), пересекатор(i/p), вычитатор(s/-) и дополнятор(a) множеств."
      ],
      "metadata": {
        "id": "i3_Wgf5nKRWj"
      }
    },
    {
      "cell_type": "markdown",
      "source": [
        "####Функции для вывода\n",
        "---"
      ],
      "metadata": {
        "id": "JdBHRslmQF9B"
      }
    },
    {
      "cell_type": "code",
      "source": [
        "def printSet(S):\n",
        "  if len(S)>0:\n",
        "    print(*S, sep=' ', end='')\n",
        "  else:\n",
        "     print(\"\\u2205\")"
      ],
      "metadata": {
        "id": "KVcwr4aYQFfS"
      },
      "execution_count": null,
      "outputs": []
    },
    {
      "cell_type": "code",
      "source": [
        "def printSets(arr):\n",
        "  for s in arr:\n",
        "    print(*s if s else '\\u2205')"
      ],
      "metadata": {
        "id": "YUGgqrt7nfQb"
      },
      "execution_count": null,
      "outputs": []
    },
    {
      "cell_type": "markdown",
      "source": [
        "####Объединение (u)\n",
        "---"
      ],
      "metadata": {
        "id": "MeiCbFY3-As1"
      }
    },
    {
      "cell_type": "code",
      "source": [
        "def union(F, arr):\n",
        "  res = set(F)\n",
        "  for i in arr:\n",
        "    res|=i\n",
        "  return res"
      ],
      "metadata": {
        "id": "rpLEX21V-KTT"
      },
      "execution_count": null,
      "outputs": []
    },
    {
      "cell_type": "markdown",
      "source": [
        "####Пересечение (i/p)\n",
        "---"
      ],
      "metadata": {
        "id": "2q5UEoV42ccB"
      }
    },
    {
      "cell_type": "code",
      "source": [
        "def intersection(F, arr):\n",
        "  res = set(F)\n",
        "  for i in arr:\n",
        "    res&=i\n",
        "  res = {} if len(arr) == 0 else res\n",
        "  return res"
      ],
      "metadata": {
        "id": "PcPh6YQq3BvC"
      },
      "execution_count": null,
      "outputs": []
    },
    {
      "cell_type": "markdown",
      "source": [
        "####Вычитание (s/-)\n",
        "---\n",
        "Из первого вычитаются остальные"
      ],
      "metadata": {
        "id": "u2WoXGUu_34m"
      }
    },
    {
      "cell_type": "code",
      "source": [
        "def subtraction(F, arr):\n",
        "  res = set(F)\n",
        "  for i in arr:\n",
        "    res-=i\n",
        "  return res"
      ],
      "metadata": {
        "id": "8fYja7XyAPgj"
      },
      "execution_count": null,
      "outputs": []
    },
    {
      "cell_type": "markdown",
      "source": [
        "####Дополнение множества 1 до множества 2 (a)\n",
        "---"
      ],
      "metadata": {
        "id": "DzBEvgdZPg9H"
      }
    },
    {
      "cell_type": "code",
      "source": [
        "def addition(F, arr):\n",
        "  return arr[0]-F"
      ],
      "metadata": {
        "id": "lvML6P02SFyO"
      },
      "execution_count": null,
      "outputs": []
    },
    {
      "cell_type": "markdown",
      "source": [
        "####Исключающее или (e)\n",
        "---"
      ],
      "metadata": {
        "id": "EaBlEA6fA4vz"
      }
    },
    {
      "cell_type": "code",
      "source": [
        "def exclusiveOr(F, arr):\n",
        "  un = union(F, arr)\n",
        "  inter = intersection(F, arr)\n",
        "  return un-inter"
      ],
      "metadata": {
        "id": "QL7AXYyyBIcr"
      },
      "execution_count": null,
      "outputs": []
    },
    {
      "cell_type": "markdown",
      "source": [
        "####Функции для ввода множеств и вызова операций\n",
        "---"
      ],
      "metadata": {
        "id": "GyghPLGFL79q"
      }
    },
    {
      "cell_type": "code",
      "source": [
        "def toСorrectSet(entered):\n",
        "    try:\n",
        "      S = list(map(int, entered.split()))\n",
        "      if sorted(S) != sorted(list(set(S))):\n",
        "          print('Ваш ввод {', end='')\n",
        "          print(*S, sep=', ', end='')\n",
        "          S = set(S)\n",
        "          print('} преобразован в', S)\n",
        "          return set(S)\n",
        "      else:\n",
        "          return set(S)\n",
        "    except:\n",
        "      print('Неверный ввод')\n",
        " "
      ],
      "metadata": {
        "id": "yi6x5tmOv3OM"
      },
      "execution_count": null,
      "outputs": []
    },
    {
      "cell_type": "code",
      "source": [
        "def useProcessor():\n",
        "  sets, rez = [], {}\n",
        "  while True:\n",
        "    entered = input()\n",
        "    if entered.isalpha() or entered == '-':\n",
        "        break\n",
        "    else:\n",
        "        correctSet = toСorrectSet(entered)\n",
        "        if type(correctSet) == set:\n",
        "          sets.append(correctSet)   \n",
        "\n",
        "  if len(sets) < 2:\n",
        "    print(\"Множеств должно быть как минимум 2\")\n",
        "    return\n",
        "\n",
        "  F = sets.pop(0)\n",
        "  if entered == 'u':\n",
        "    rez = union(F, sets)\n",
        "  elif entered == 'i' or entered == 'p':\n",
        "    rez = intersection(F, sets)\n",
        "  elif entered == 's' or entered == '-':\n",
        "    rez = subtraction(F, sets)\n",
        "  elif entered == 'a':\n",
        "    rez = addition(F, sets)\n",
        "  elif entered == 'e':\n",
        "    rez = exclusiveOr(F, sets)\n",
        "  else:\n",
        "    print('Такой операции нет')\n",
        "  printSet(rez)"
      ],
      "metadata": {
        "id": "YAkspJu3NHPj"
      },
      "execution_count": null,
      "outputs": []
    },
    {
      "cell_type": "markdown",
      "source": [
        "###**Этап 1:**  Ввести множества и операцию\n",
        "---"
      ],
      "metadata": {
        "id": "blU9vXKw0ISS"
      }
    },
    {
      "cell_type": "markdown",
      "source": [
        "Введите \n",
        "\n",
        "*    множество **1** \n",
        "*    множество **2** \n",
        "*    множество **3** \n",
        "\n",
        "**. . .**\n",
        "*    множество **n**, где **n > 1**\n",
        "*   **операцию**, которую хотите выполнить\n",
        "\n",
        "в формате:\n",
        "\n",
        ">```\n",
        ">#Example\n",
        ">1 2 3 5 6\n",
        ">4 5 6\n",
        ">6 7\n",
        ">u\n",
        ">```\n",
        "\n",
        "\n",
        "*Примечание 1*: для ввода пустого множества просто нажмите **Enter**\n",
        "\n",
        "\n",
        "*Примечание 2*: для **дополнений** корректно **только** 2 множества\n",
        "\n"
      ],
      "metadata": {
        "id": "up_TGzIC1BZU"
      }
    },
    {
      "cell_type": "code",
      "source": [
        "useProcessor()"
      ],
      "metadata": {
        "id": "508rmVAR100K",
        "colab": {
          "base_uri": "https://localhost:8080/"
        },
        "outputId": "8b8fda26-2f7e-41e0-873b-426a523caf99"
      },
      "execution_count": null,
      "outputs": [
        {
          "output_type": "stream",
          "name": "stdout",
          "text": [
            "1 2 3\n",
            "4 5 6\n",
            "7 8 9\n",
            "u\n",
            "1 2 3 4 5 6 7 8 9"
          ]
        }
      ]
    },
    {
      "cell_type": "code",
      "source": [
        "useProcessor()"
      ],
      "metadata": {
        "colab": {
          "base_uri": "https://localhost:8080/"
        },
        "id": "nBRZ_G6EaQwi",
        "outputId": "f76c5400-98b3-4d02-81b9-c505791fd6a4"
      },
      "execution_count": null,
      "outputs": [
        {
          "output_type": "stream",
          "name": "stdout",
          "text": [
            "1 2 3 4 5 6 7\n",
            "2 3 4 5 6 7 9 \n",
            "5 6 7 10 11\n",
            "p\n",
            "5 6 7"
          ]
        }
      ]
    },
    {
      "cell_type": "code",
      "source": [
        "useProcessor()"
      ],
      "metadata": {
        "colab": {
          "base_uri": "https://localhost:8080/"
        },
        "id": "e20dq8BEaR0U",
        "outputId": "fb619e2e-8db1-4f96-9d22-f4d1b59003a2"
      },
      "execution_count": null,
      "outputs": [
        {
          "output_type": "stream",
          "name": "stdout",
          "text": [
            "2 3 4 5 6 7 8\n",
            "2 3 9\n",
            "1 4 8\n",
            "-\n",
            "5 6 7"
          ]
        }
      ]
    },
    {
      "cell_type": "code",
      "source": [
        "useProcessor()"
      ],
      "metadata": {
        "id": "pgVH_UctaSS7",
        "colab": {
          "base_uri": "https://localhost:8080/"
        },
        "outputId": "ea5dd5a0-98c4-45e6-cb08-5ce8212d2258"
      },
      "execution_count": null,
      "outputs": [
        {
          "output_type": "stream",
          "name": "stdout",
          "text": [
            "1 2 3 4\n",
            "1 2 3 4 5 6 7\n",
            "a\n",
            "5 6 7"
          ]
        }
      ]
    },
    {
      "cell_type": "code",
      "source": [
        "useProcessor()"
      ],
      "metadata": {
        "colab": {
          "base_uri": "https://localhost:8080/"
        },
        "id": "35W-7Uzp59C4",
        "outputId": "e76d1cc6-17a6-41fb-a2e9-f16cd6284055"
      },
      "execution_count": null,
      "outputs": [
        {
          "output_type": "stream",
          "name": "stdout",
          "text": [
            "1 2 3 4 5 6\n",
            "0 4 5 6 8\n",
            "4 5 6 9 10 11\n",
            "e\n",
            "0 1 2 3 8 9 10 11"
          ]
        }
      ]
    }
  ]
}