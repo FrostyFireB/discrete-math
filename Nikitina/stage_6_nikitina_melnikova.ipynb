{
  "nbformat": 4,
  "nbformat_minor": 0,
  "metadata": {
    "colab": {
      "name": "stage 6_nikitina_melnikova.ipynb",
      "provenance": [],
      "toc_visible": true,
      "authorship_tag": "ABX9TyPV/oFzjPdxMT5Czj2IYH72",
      "include_colab_link": true
    },
    "kernelspec": {
      "name": "python3",
      "display_name": "Python 3"
    },
    "language_info": {
      "name": "python"
    }
  },
  "cells": [
    {
      "cell_type": "markdown",
      "metadata": {
        "id": "view-in-github",
        "colab_type": "text"
      },
      "source": [
        "<a href=\"https://colab.research.google.com/github/ksenia312/discrete-math/blob/main/Nikitina/stage_6_nikitina_melnikova.ipynb\" target=\"_parent\"><img src=\"https://colab.research.google.com/assets/colab-badge.svg\" alt=\"Open In Colab\"/></a>"
      ]
    },
    {
      "cell_type": "markdown",
      "source": [
        "##**Домашняя работа**\n",
        "---\n"
      ],
      "metadata": {
        "id": "d0Mk0NOTvggo"
      }
    },
    {
      "cell_type": "code",
      "source": [
        "import pandas as pd"
      ],
      "metadata": {
        "id": "06-pXIERex7j"
      },
      "execution_count": 81,
      "outputs": []
    },
    {
      "cell_type": "markdown",
      "source": [
        "###**Этап 6:** Реализация \n",
        "---\n",
        "Построить СКНФ для формулы по некоторой корректной таблице истинности.\n",
        "\n",
        "Формат ввода: вводится число k от 2 до 5 -- число переменных в формуле. Далее вводится через пробел 2^k строчек 0 и 1 длины k + 1 соответствующих значениям аргументов и соответственно значению функции. В качестве вывода ожидается СКНФ\n",
        "\n",
        "Рассмотрим в качестве примера функцию xor.\n",
        "\n",
        "Пример ввода:\n",
        "\n",
        "```\n",
        "2\n",
        "0 0 0\n",
        "1 1 0\n",
        "1 0 1\n",
        "0 1 1\n",
        "```\n",
        "Пример вывода:\n",
        "\n",
        "```\n",
        "(-a + -b)(a + b)\n",
        "```\n",
        "\n"
      ],
      "metadata": {
        "id": "v2W9eAjkIRsi"
      }
    },
    {
      "cell_type": "markdown",
      "source": [
        "####Функция ввода\n",
        "---"
      ],
      "metadata": {
        "id": "9uA083vgKVd4"
      }
    },
    {
      "cell_type": "code",
      "source": [
        "def input_data():\n",
        "  n = int(input())\n",
        "  table = []\n",
        "  for i in range(2**n):\n",
        "    table.append(list(map(int, input().split())))\n",
        "  return n, table"
      ],
      "metadata": {
        "id": "A6RMZAAylPHG"
      },
      "execution_count": 87,
      "outputs": []
    },
    {
      "cell_type": "markdown",
      "source": [
        "####Функция визулизации\n",
        "---"
      ],
      "metadata": {
        "id": "b-rT08lIrBNG"
      }
    },
    {
      "cell_type": "code",
      "source": [
        "def visualize():\n",
        "  var_names = [chr(i).lower() for i in range(65, 65+n)]\n",
        "  df = pd.DataFrame(table, columns=var_names+['f'])\n",
        "  return var_names, df"
      ],
      "metadata": {
        "id": "D3wwpKmRoXiN"
      },
      "execution_count": 83,
      "outputs": []
    },
    {
      "cell_type": "markdown",
      "source": [
        "####Функция получения СКНФ\n",
        "---"
      ],
      "metadata": {
        "id": "GMuDmrQYswhG"
      }
    },
    {
      "cell_type": "code",
      "source": [
        "def get_SKNF():\n",
        "  for row in table:\n",
        "    if row[-1] == 1:\n",
        "      table.remove(row)\n",
        "\n",
        "  answer = 'СКНФ: \\n'\n",
        "  for row in table:\n",
        "    answer+='('\n",
        "    for i in range(len(row)-1):\n",
        "      if i != 0:\n",
        "        answer+=' + '\n",
        "      if row[i] == 1:\n",
        "        answer+='-'\n",
        "      answer+=var_names[i]\n",
        "    answer+=')'\n",
        "  return answer"
      ],
      "metadata": {
        "id": "TFJ6ZlJKozZm"
      },
      "execution_count": 84,
      "outputs": []
    },
    {
      "cell_type": "markdown",
      "source": [
        "###**Этап 6:** Ввести данные\n",
        "---\n"
      ],
      "metadata": {
        "id": "AWbwFtA1tTFH"
      }
    },
    {
      "cell_type": "code",
      "source": [
        "n, table = input_data()"
      ],
      "metadata": {
        "colab": {
          "base_uri": "https://localhost:8080/"
        },
        "id": "lNunApWgoHrQ",
        "outputId": "cbb9c2e1-f5ad-4451-f1ca-1ee6532c2567"
      },
      "execution_count": 88,
      "outputs": [
        {
          "name": "stdout",
          "output_type": "stream",
          "text": [
            "3\n",
            "0 0 0 0\n",
            "0 0 1 0\n",
            "0 1 0 0\n",
            "0 1 1 0\n",
            "1 0 0 0\n",
            "1 0 1 0\n",
            "1 1 0 0\n",
            "1 1 1 1\n"
          ]
        }
      ]
    },
    {
      "cell_type": "code",
      "source": [
        "var_names, df = visualize()\n",
        "df"
      ],
      "metadata": {
        "colab": {
          "base_uri": "https://localhost:8080/",
          "height": 300
        },
        "id": "_JqPdsHJmeb0",
        "outputId": "90ac7bc0-6ce2-4ee6-c2e8-27e3d77e3b8b"
      },
      "execution_count": 89,
      "outputs": [
        {
          "output_type": "execute_result",
          "data": {
            "text/plain": [
              "   a  b  c  f\n",
              "0  0  0  0  0\n",
              "1  0  0  1  0\n",
              "2  0  1  0  0\n",
              "3  0  1  1  0\n",
              "4  1  0  0  0\n",
              "5  1  0  1  0\n",
              "6  1  1  0  0\n",
              "7  1  1  1  1"
            ],
            "text/html": [
              "\n",
              "  <div id=\"df-afe98308-00e8-4252-9afc-0eba3349d836\">\n",
              "    <div class=\"colab-df-container\">\n",
              "      <div>\n",
              "<style scoped>\n",
              "    .dataframe tbody tr th:only-of-type {\n",
              "        vertical-align: middle;\n",
              "    }\n",
              "\n",
              "    .dataframe tbody tr th {\n",
              "        vertical-align: top;\n",
              "    }\n",
              "\n",
              "    .dataframe thead th {\n",
              "        text-align: right;\n",
              "    }\n",
              "</style>\n",
              "<table border=\"1\" class=\"dataframe\">\n",
              "  <thead>\n",
              "    <tr style=\"text-align: right;\">\n",
              "      <th></th>\n",
              "      <th>a</th>\n",
              "      <th>b</th>\n",
              "      <th>c</th>\n",
              "      <th>f</th>\n",
              "    </tr>\n",
              "  </thead>\n",
              "  <tbody>\n",
              "    <tr>\n",
              "      <th>0</th>\n",
              "      <td>0</td>\n",
              "      <td>0</td>\n",
              "      <td>0</td>\n",
              "      <td>0</td>\n",
              "    </tr>\n",
              "    <tr>\n",
              "      <th>1</th>\n",
              "      <td>0</td>\n",
              "      <td>0</td>\n",
              "      <td>1</td>\n",
              "      <td>0</td>\n",
              "    </tr>\n",
              "    <tr>\n",
              "      <th>2</th>\n",
              "      <td>0</td>\n",
              "      <td>1</td>\n",
              "      <td>0</td>\n",
              "      <td>0</td>\n",
              "    </tr>\n",
              "    <tr>\n",
              "      <th>3</th>\n",
              "      <td>0</td>\n",
              "      <td>1</td>\n",
              "      <td>1</td>\n",
              "      <td>0</td>\n",
              "    </tr>\n",
              "    <tr>\n",
              "      <th>4</th>\n",
              "      <td>1</td>\n",
              "      <td>0</td>\n",
              "      <td>0</td>\n",
              "      <td>0</td>\n",
              "    </tr>\n",
              "    <tr>\n",
              "      <th>5</th>\n",
              "      <td>1</td>\n",
              "      <td>0</td>\n",
              "      <td>1</td>\n",
              "      <td>0</td>\n",
              "    </tr>\n",
              "    <tr>\n",
              "      <th>6</th>\n",
              "      <td>1</td>\n",
              "      <td>1</td>\n",
              "      <td>0</td>\n",
              "      <td>0</td>\n",
              "    </tr>\n",
              "    <tr>\n",
              "      <th>7</th>\n",
              "      <td>1</td>\n",
              "      <td>1</td>\n",
              "      <td>1</td>\n",
              "      <td>1</td>\n",
              "    </tr>\n",
              "  </tbody>\n",
              "</table>\n",
              "</div>\n",
              "      <button class=\"colab-df-convert\" onclick=\"convertToInteractive('df-afe98308-00e8-4252-9afc-0eba3349d836')\"\n",
              "              title=\"Convert this dataframe to an interactive table.\"\n",
              "              style=\"display:none;\">\n",
              "        \n",
              "  <svg xmlns=\"http://www.w3.org/2000/svg\" height=\"24px\"viewBox=\"0 0 24 24\"\n",
              "       width=\"24px\">\n",
              "    <path d=\"M0 0h24v24H0V0z\" fill=\"none\"/>\n",
              "    <path d=\"M18.56 5.44l.94 2.06.94-2.06 2.06-.94-2.06-.94-.94-2.06-.94 2.06-2.06.94zm-11 1L8.5 8.5l.94-2.06 2.06-.94-2.06-.94L8.5 2.5l-.94 2.06-2.06.94zm10 10l.94 2.06.94-2.06 2.06-.94-2.06-.94-.94-2.06-.94 2.06-2.06.94z\"/><path d=\"M17.41 7.96l-1.37-1.37c-.4-.4-.92-.59-1.43-.59-.52 0-1.04.2-1.43.59L10.3 9.45l-7.72 7.72c-.78.78-.78 2.05 0 2.83L4 21.41c.39.39.9.59 1.41.59.51 0 1.02-.2 1.41-.59l7.78-7.78 2.81-2.81c.8-.78.8-2.07 0-2.86zM5.41 20L4 18.59l7.72-7.72 1.47 1.35L5.41 20z\"/>\n",
              "  </svg>\n",
              "      </button>\n",
              "      \n",
              "  <style>\n",
              "    .colab-df-container {\n",
              "      display:flex;\n",
              "      flex-wrap:wrap;\n",
              "      gap: 12px;\n",
              "    }\n",
              "\n",
              "    .colab-df-convert {\n",
              "      background-color: #E8F0FE;\n",
              "      border: none;\n",
              "      border-radius: 50%;\n",
              "      cursor: pointer;\n",
              "      display: none;\n",
              "      fill: #1967D2;\n",
              "      height: 32px;\n",
              "      padding: 0 0 0 0;\n",
              "      width: 32px;\n",
              "    }\n",
              "\n",
              "    .colab-df-convert:hover {\n",
              "      background-color: #E2EBFA;\n",
              "      box-shadow: 0px 1px 2px rgba(60, 64, 67, 0.3), 0px 1px 3px 1px rgba(60, 64, 67, 0.15);\n",
              "      fill: #174EA6;\n",
              "    }\n",
              "\n",
              "    [theme=dark] .colab-df-convert {\n",
              "      background-color: #3B4455;\n",
              "      fill: #D2E3FC;\n",
              "    }\n",
              "\n",
              "    [theme=dark] .colab-df-convert:hover {\n",
              "      background-color: #434B5C;\n",
              "      box-shadow: 0px 1px 3px 1px rgba(0, 0, 0, 0.15);\n",
              "      filter: drop-shadow(0px 1px 2px rgba(0, 0, 0, 0.3));\n",
              "      fill: #FFFFFF;\n",
              "    }\n",
              "  </style>\n",
              "\n",
              "      <script>\n",
              "        const buttonEl =\n",
              "          document.querySelector('#df-afe98308-00e8-4252-9afc-0eba3349d836 button.colab-df-convert');\n",
              "        buttonEl.style.display =\n",
              "          google.colab.kernel.accessAllowed ? 'block' : 'none';\n",
              "\n",
              "        async function convertToInteractive(key) {\n",
              "          const element = document.querySelector('#df-afe98308-00e8-4252-9afc-0eba3349d836');\n",
              "          const dataTable =\n",
              "            await google.colab.kernel.invokeFunction('convertToInteractive',\n",
              "                                                     [key], {});\n",
              "          if (!dataTable) return;\n",
              "\n",
              "          const docLinkHtml = 'Like what you see? Visit the ' +\n",
              "            '<a target=\"_blank\" href=https://colab.research.google.com/notebooks/data_table.ipynb>data table notebook</a>'\n",
              "            + ' to learn more about interactive tables.';\n",
              "          element.innerHTML = '';\n",
              "          dataTable['output_type'] = 'display_data';\n",
              "          await google.colab.output.renderOutput(dataTable, element);\n",
              "          const docLink = document.createElement('div');\n",
              "          docLink.innerHTML = docLinkHtml;\n",
              "          element.appendChild(docLink);\n",
              "        }\n",
              "      </script>\n",
              "    </div>\n",
              "  </div>\n",
              "  "
            ]
          },
          "metadata": {},
          "execution_count": 89
        }
      ]
    },
    {
      "cell_type": "code",
      "source": [
        "print(get_SKNF())"
      ],
      "metadata": {
        "colab": {
          "base_uri": "https://localhost:8080/"
        },
        "id": "VPo_XifPtgYP",
        "outputId": "8354ae7d-0225-46d1-ea2b-812e2598ee9f"
      },
      "execution_count": 90,
      "outputs": [
        {
          "output_type": "stream",
          "name": "stdout",
          "text": [
            "СКНФ: \n",
            "(a + b + c)(a + b + -c)(a + -b + c)(a + -b + -c)(-a + b + c)(-a + b + -c)(-a + -b + c)\n"
          ]
        }
      ]
    }
  ]
}