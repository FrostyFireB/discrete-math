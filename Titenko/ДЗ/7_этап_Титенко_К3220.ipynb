{
  "nbformat": 4,
  "nbformat_minor": 0,
  "metadata": {
    "colab": {
      "name": "7_этап_Титенко_К3220",
      "provenance": [],
      "collapsed_sections": [],
      "authorship_tag": "ABX9TyPQIXDCbKHBdJQqqxf55/OS",
      "include_colab_link": true
    },
    "kernelspec": {
      "name": "python3",
      "display_name": "Python 3"
    },
    "language_info": {
      "name": "python"
    }
  },
  "cells": [
    {
      "cell_type": "markdown",
      "metadata": {
        "id": "view-in-github",
        "colab_type": "text"
      },
      "source": [
        "<a href=\"https://colab.research.google.com/github/oxxawsm/discrete-math/blob/main/7_%D1%8D%D1%82%D0%B0%D0%BF_%D0%A2%D0%B8%D1%82%D0%B5%D0%BD%D0%BA%D0%BE_%D0%9A3220.ipynb\" target=\"_parent\"><img src=\"https://colab.research.google.com/assets/colab-badge.svg\" alt=\"Open In Colab\"/></a>"
      ]
    },
    {
      "cell_type": "markdown",
      "source": [
        "# Этап 7. Алгоритм dfs"
      ],
      "metadata": {
        "id": "X2hIr9qpsXyQ"
      }
    },
    {
      "cell_type": "markdown",
      "source": [
        "\n",
        "\n",
        "---\n",
        "\n"
      ],
      "metadata": {
        "id": "hoDneUD5sdNL"
      }
    },
    {
      "cell_type": "markdown",
      "source": [
        "*Формат ввода*: \n",
        "1. в первой строке n, m, k. k номер вершины, n количество вершин, m количество рёбер\n",
        "2. далее на следующих m строках по три числа from, to, weight\n",
        "\n",
        "*Вывод:* n чисел, где каждое число - минимальное расстояние от вершины k до остальных"
      ],
      "metadata": {
        "id": "WUSraqkUsz6W"
      }
    },
    {
      "cell_type": "markdown",
      "source": [
        "**Пример**\n",
        "\n",
        "\n",
        "Ввод:\n",
        "\n",
        "```\n",
        "3 3 2\n",
        "1 2 2\n",
        "2 1 2\n",
        "2 3 1\n",
        "```\n",
        "\n",
        "Вывод: \n",
        "```2 0 1```"
      ],
      "metadata": {
        "id": "tE4_UmTzvmzA"
      }
    },
    {
      "cell_type": "markdown",
      "source": [
        "\n",
        "\n",
        "---\n",
        "\n"
      ],
      "metadata": {
        "id": "5duouko-wHKI"
      }
    },
    {
      "cell_type": "markdown",
      "source": [
        "# Расчёт минимальных расстояний для графа из задания"
      ],
      "metadata": {
        "id": "RyVsJSajXq70"
      }
    },
    {
      "cell_type": "code",
      "source": [
        "n, m, k = (list(map(int, input().split(' '))))\n",
        "inf = 10000\n",
        "rows = []\n",
        "gr = []\n",
        "\n",
        "for i in range(m):\n",
        "  rows.append(list(map(int, input().split(' '))))\n",
        "\n",
        "for y in range(n):\n",
        "  tmp = []\n",
        "  for x in range(n):\n",
        "    tmp.append(inf)\n",
        "  gr.append(tmp)\n",
        "\n",
        "for r in rows:\n",
        "  gr[r[0] - 1][r[1] - 1] = r[2]\n",
        "\n",
        "\n",
        "for x in range(n):\n",
        "  for y in range(n):\n",
        "    if y == x:\n",
        "      gr[x][y] = 0\n",
        "\n",
        "for i in range(n):\n",
        "  for x in range(n):\n",
        "    for y in range(n):\n",
        "      gr[x][y] = min(gr[x][y], gr[x][i] + gr[i][y])\n",
        "\n",
        "for x in range(n):\n",
        "  for y in range(n):\n",
        "    if (inf == gr[x][y]):\n",
        "      gr[x][y] = 'нет'\n",
        "\n",
        "print(' ')\n",
        "for i in gr[k - 1]:\n",
        "    print(i, end = ' ')\n"
      ],
      "metadata": {
        "colab": {
          "base_uri": "https://localhost:8080/"
        },
        "id": "_IQBhygjXl0v",
        "outputId": "0015aa78-501f-4eba-b80f-b4a26ab5dcca"
      },
      "execution_count": null,
      "outputs": [
        {
          "output_type": "stream",
          "name": "stdout",
          "text": [
            "3 3 2\n",
            "1 2 2\n",
            "2 1 2\n",
            "2 3 1\n",
            " \n",
            "2 0 1 "
          ]
        }
      ]
    },
    {
      "cell_type": "markdown",
      "source": [
        "\n",
        "\n",
        "---\n",
        "\n"
      ],
      "metadata": {
        "id": "h4bhbFNOXgeW"
      }
    },
    {
      "cell_type": "markdown",
      "source": [
        "# Пример графа не из задания"
      ],
      "metadata": {
        "id": "qiY0d4h8Xf_-"
      }
    },
    {
      "cell_type": "code",
      "execution_count": null,
      "metadata": {
        "colab": {
          "base_uri": "https://localhost:8080/"
        },
        "id": "daFUx4CdsVvk",
        "outputId": "29f96525-b2e3-4c48-8b53-53e59b9eb616"
      },
      "outputs": [
        {
          "output_type": "stream",
          "name": "stdout",
          "text": [
            "4 5 2\n",
            "2 1 1\n",
            "1 4 3\n",
            "4 3 2\n",
            "3 2 2\n",
            "2 3 3\n",
            " \n",
            "1 0 3 4 "
          ]
        }
      ],
      "source": [
        "n, m, k = (list(map(int, input().split(' '))))\n",
        "inf = 10000\n",
        "rows = []\n",
        "gr = []\n",
        "\n",
        "for i in range(m):\n",
        "  rows.append(list(map(int, input().split(' '))))\n",
        "\n",
        "for y in range(n):\n",
        "  tmp = []\n",
        "  for x in range(n):\n",
        "    tmp.append(inf)\n",
        "  gr.append(tmp)\n",
        "\n",
        "for r in rows:\n",
        "  gr[r[0] - 1][r[1] - 1] = r[2]\n",
        "\n",
        "\n",
        "for x in range(n):\n",
        "  for y in range(n):\n",
        "    if y == x:\n",
        "      gr[x][y] = 0\n",
        "\n",
        "for i in range(n):\n",
        "  for x in range(n):\n",
        "    for y in range(n):\n",
        "      gr[x][y] = min(gr[x][y], gr[x][i] + gr[i][y])\n",
        "\n",
        "for x in range(n):\n",
        "  for y in range(n):\n",
        "    if (inf == gr[x][y]):\n",
        "      gr[x][y] = 'нет'\n",
        "\n",
        "print(' ')\n",
        "for i in gr[k - 1]:\n",
        "    print(i, end = ' ')\n"
      ]
    }
  ]
}
