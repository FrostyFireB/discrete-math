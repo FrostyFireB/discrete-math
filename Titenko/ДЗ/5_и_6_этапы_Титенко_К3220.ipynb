{
  "nbformat": 4,
  "nbformat_minor": 0,
  "metadata": {
    "colab": {
      "name": "5_и_6_этапы_Титенко_К3220.ipynb",
      "provenance": [],
      "authorship_tag": "ABX9TyNpX35AeDgZ/vVAivoVEPQz",
      "include_colab_link": true
    },
    "kernelspec": {
      "name": "python3",
      "display_name": "Python 3"
    },
    "language_info": {
      "name": "python"
    }
  },
  "cells": [
    {
      "cell_type": "markdown",
      "metadata": {
        "id": "view-in-github",
        "colab_type": "text"
      },
      "source": [
        "<a href=\"https://colab.research.google.com/github/oxxawsm/discrete-math/blob/main/5_%D0%B8_6_%D1%8D%D1%82%D0%B0%D0%BF%D1%8B_%D0%A2%D0%B8%D1%82%D0%B5%D0%BD%D0%BA%D0%BE_%D0%9A3220.ipynb\" target=\"_parent\"><img src=\"https://colab.research.google.com/assets/colab-badge.svg\" alt=\"Open In Colab\"/></a>"
      ]
    },
    {
      "cell_type": "markdown",
      "source": [
        "# 5 этап. СДНФ для формулы по некоторой корректной таблице истинности"
      ],
      "metadata": {
        "id": "QUfYLblLljtz"
      }
    },
    {
      "cell_type": "markdown",
      "source": [
        "\n",
        "\n",
        "---\n",
        "\n"
      ],
      "metadata": {
        "id": "bpoaPcK-lm8v"
      }
    },
    {
      "cell_type": "markdown",
      "source": [
        "*Формат ввода*: \n",
        "1. вводится число k от 2 до 5 -- число переменных в формуле\n",
        "2. далее вводится через пробел 2^k строчек 0 и 1 длины k + 1 соответствующих значениям аргументов и соответственно значению функции\n",
        "\n",
        "*Вывод:* СДНФ"
      ],
      "metadata": {
        "id": "rObNoInSlxck"
      }
    },
    {
      "cell_type": "markdown",
      "source": [
        "**Пример**\n",
        "\n",
        "\n",
        "Ввод:\n",
        "\n",
        "2\n",
        "\n",
        "0 0 0\n",
        "\n",
        "1 1 0\n",
        "\n",
        "1 0 1\n",
        "\n",
        "0 1 1\n",
        "\n",
        "Вывод: a^(-b)+b^(-a)"
      ],
      "metadata": {
        "id": "A1-8iJAqm1WV"
      }
    },
    {
      "cell_type": "markdown",
      "source": [
        "\n",
        "\n",
        "---\n",
        "\n"
      ],
      "metadata": {
        "id": "Y-JcHmlTmXOS"
      }
    },
    {
      "cell_type": "markdown",
      "source": [
        "Функция для расчётов"
      ],
      "metadata": {
        "id": "7Tv5miSoeBrV"
      }
    },
    {
      "cell_type": "code",
      "source": [
        "letters = 'abcdefghijklmnopqrstuvwxyz'\n",
        "truth_table = []\n",
        "\n",
        "def sdnf(truth_table):\n",
        "    result = []\n",
        "    for i in truth_table:\n",
        "      step = []\n",
        "\n",
        "      for n in range(k):\n",
        "        if i[n] == 0:\n",
        "          step.append('(-' + letters[n] + ')')\n",
        "        else:\n",
        "          step.append(letters[n])\n",
        "\n",
        "      result.append('∧'.join(step))\n",
        "\n",
        "    return '∨'.join(result)"
      ],
      "metadata": {
        "id": "6Db14jDvANo8"
      },
      "execution_count": 26,
      "outputs": []
    },
    {
      "cell_type": "markdown",
      "source": [
        "Примеры"
      ],
      "metadata": {
        "id": "CKoCmgh1eOV9"
      }
    },
    {
      "cell_type": "code",
      "source": [
        "# первый пример (из тз)\n",
        "\n",
        "truth_table = []\n",
        "k = int(input()) \n",
        "\n",
        "for i in range (k**2):\n",
        "  rows = list(map(int, input().split(' ')))\n",
        "  arguments = rows[:-1]\n",
        "\n",
        "  func = rows[-1]\n",
        "  if func == 1:\n",
        "    truth_table.append(arguments)\n",
        "\n",
        "print('СДНФ:', sdnf(truth_table))"
      ],
      "metadata": {
        "colab": {
          "base_uri": "https://localhost:8080/"
        },
        "id": "cmCaV9FZbTH4",
        "outputId": "96d1f40c-eab2-4466-8343-cf63b1b73e74"
      },
      "execution_count": 29,
      "outputs": [
        {
          "output_type": "stream",
          "name": "stdout",
          "text": [
            "2\n",
            "0 0 0\n",
            "1 1 0\n",
            "1 0 1\n",
            "0 1 1\n",
            "СДНФ: a∧(-b)∨(-a)∧b\n"
          ]
        }
      ]
    },
    {
      "cell_type": "code",
      "source": [
        "# еще один пример\n",
        "\n",
        "truth_table = []\n",
        "k = int(input()) \n",
        "\n",
        "for i in range (k**2):\n",
        "  rows = list(map(int, input().split(' ')))\n",
        "  arguments = rows[:-1]\n",
        "\n",
        "  func = rows[-1]\n",
        "  if func == 1:\n",
        "    truth_table.append(arguments)\n",
        "\n",
        "print(sdnf(truth_table))"
      ],
      "metadata": {
        "colab": {
          "base_uri": "https://localhost:8080/"
        },
        "id": "0BJVr3c3J8dQ",
        "outputId": "13b26cf7-630d-4439-a86d-e89f88aa8f67"
      },
      "execution_count": 20,
      "outputs": [
        {
          "output_type": "stream",
          "name": "stdout",
          "text": [
            "3\n",
            "0 0 0 0\n",
            "0 0 1 1\n",
            "0 1 0 0\n",
            "0 1 1 0\n",
            "1 0 0 0\n",
            "1 0 1 1\n",
            "1 1 0 1\n",
            "1 1 1 1\n",
            "1 0 1 0\n",
            "(-a)∧(-b)∧c∨a∧(-b)∧c∨a∧b∧(-c)∨a∧b∧c\n"
          ]
        }
      ]
    },
    {
      "cell_type": "markdown",
      "source": [
        "\n",
        "\n",
        "---\n",
        "\n"
      ],
      "metadata": {
        "id": "Bt0jHw63iQ9t"
      }
    },
    {
      "cell_type": "markdown",
      "source": [
        "# 6 этап. СКНФ для формулы по некоторой корректной таблице истинности"
      ],
      "metadata": {
        "id": "A2p3le5yh-Cn"
      }
    },
    {
      "cell_type": "markdown",
      "source": [
        "\n",
        "\n",
        "---\n",
        "\n"
      ],
      "metadata": {
        "id": "4Oq-fr98iTLm"
      }
    },
    {
      "cell_type": "markdown",
      "source": [
        "*Формат ввода*: \n",
        "1. вводится число k от 2 до 5 -- число переменных в формуле\n",
        "2. далее вводится через пробел 2^k строчек 0 и 1 длины k + 1 соответствующих значениям аргументов и соответственно значению функции\n",
        "\n",
        "*Вывод:* СКНФ"
      ],
      "metadata": {
        "id": "4YbBZHNZiUBO"
      }
    },
    {
      "cell_type": "markdown",
      "source": [
        "**Пример**\n",
        "\n",
        "\n",
        "Ввод:\n",
        "\n",
        "2\n",
        "\n",
        "0 0 0\n",
        "\n",
        "1 1 0\n",
        "\n",
        "1 0 1\n",
        "\n",
        "0 1 1\n",
        "\n",
        "Вывод: (-a + -b)(a + b)"
      ],
      "metadata": {
        "id": "wr7pSsqXigUi"
      }
    },
    {
      "cell_type": "markdown",
      "source": [
        "\n",
        "\n",
        "---\n",
        "\n"
      ],
      "metadata": {
        "id": "FBcSN5hIjUJw"
      }
    },
    {
      "cell_type": "markdown",
      "source": [
        "Функция для расчётов"
      ],
      "metadata": {
        "id": "aP8IivXNitp8"
      }
    },
    {
      "cell_type": "code",
      "source": [
        "letters = 'abcdefghijklmnopqrstuvwxyz'\n",
        "truth_table = []\n",
        "\n",
        "def sknf(truth_table):\n",
        "    result = []\n",
        "    for i in truth_table:\n",
        "      step = []\n",
        "\n",
        "      for n in range(k):\n",
        "        if i[n] == 1:\n",
        "          step.append('(-' + letters[n] + ')')\n",
        "        else:\n",
        "          step.append(letters[n])\n",
        "\n",
        "      result.append('(' + '∨'.join(step) + ')')\n",
        "\n",
        "    return '∧'.join(result)"
      ],
      "metadata": {
        "id": "oMfSQ2f7eZuj"
      },
      "execution_count": 33,
      "outputs": []
    },
    {
      "cell_type": "markdown",
      "source": [
        "Примеры"
      ],
      "metadata": {
        "id": "R7Ak3LJhivFm"
      }
    },
    {
      "cell_type": "code",
      "source": [
        "# первый пример (из тз)\n",
        "\n",
        "truth_table = []\n",
        "k = int(input()) \n",
        "\n",
        "for i in range (k**2):\n",
        "  rows = list(map(int, input().split(' ')))\n",
        "  arguments = rows[:-1]\n",
        "\n",
        "  func = rows[-1]\n",
        "  if func == 0:\n",
        "    truth_table.append(arguments)\n",
        "\n",
        "print('СКНФ:', sknf(truth_table))"
      ],
      "metadata": {
        "colab": {
          "base_uri": "https://localhost:8080/"
        },
        "id": "NQXDo9WqewMP",
        "outputId": "84a22ce4-4eef-412d-ef12-273c72a1756d"
      },
      "execution_count": 35,
      "outputs": [
        {
          "output_type": "stream",
          "name": "stdout",
          "text": [
            "2\n",
            "0 0 0\n",
            "1 1 0\n",
            "1 0 1\n",
            "0 1 1\n",
            "СКНФ: (a∨b)∧((-a)∨(-b))\n"
          ]
        }
      ]
    },
    {
      "cell_type": "code",
      "source": [
        "# еще один пример\n",
        "\n",
        "truth_table = []\n",
        "k = int(input()) \n",
        "\n",
        "for i in range (k**2):\n",
        "  rows = list(map(int, input().split(' ')))\n",
        "  arguments = rows[:-1]\n",
        "\n",
        "  func = rows[-1]\n",
        "  if func == 0:\n",
        "    truth_table.append(arguments)\n",
        "\n",
        "print('СКНФ:', sknf(truth_table))"
      ],
      "metadata": {
        "colab": {
          "base_uri": "https://localhost:8080/"
        },
        "id": "WlWCJlA0flEV",
        "outputId": "6ac2c634-0520-4a63-c8c8-33d6aef50795"
      },
      "execution_count": 41,
      "outputs": [
        {
          "output_type": "stream",
          "name": "stdout",
          "text": [
            "3\n",
            "0 0 0 1\n",
            "0 0 1 1\n",
            "0 1 0 1\n",
            "0 1 1 1\n",
            "1 0 0 0\n",
            "1 0 1 0\n",
            "1 0 1 1\n",
            "1 1 0 1\n",
            "1 1 1 1\n",
            "СКНФ: ((-a)∨b∨c)∧((-a)∨b∨(-c))\n"
          ]
        }
      ]
    }
  ]
}
