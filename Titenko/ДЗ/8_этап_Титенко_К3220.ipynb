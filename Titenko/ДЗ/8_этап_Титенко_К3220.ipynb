{
  "nbformat": 4,
  "nbformat_minor": 0,
  "metadata": {
    "colab": {
      "name": "8_этап_Титенко_К3220",
      "provenance": [],
      "collapsed_sections": [],
      "authorship_tag": "ABX9TyP1FOskjWZRBDKq+a3gvLhz",
      "include_colab_link": true
    },
    "kernelspec": {
      "name": "python3",
      "display_name": "Python 3"
    },
    "language_info": {
      "name": "python"
    }
  },
  "cells": [
    {
      "cell_type": "markdown",
      "metadata": {
        "id": "view-in-github",
        "colab_type": "text"
      },
      "source": [
        "<a href=\"https://colab.research.google.com/github/oxxawsm/discrete-math/blob/main/8_%D1%8D%D1%82%D0%B0%D0%BF_%D0%A2%D0%B8%D1%82%D0%B5%D0%BD%D0%BA%D0%BE_%D0%9A3220.ipynb\" target=\"_parent\"><img src=\"https://colab.research.google.com/assets/colab-badge.svg\" alt=\"Open In Colab\"/></a>"
      ]
    },
    {
      "cell_type": "markdown",
      "source": [
        "# 8 этап. Алгоритм bfs"
      ],
      "metadata": {
        "id": "GG808Ot6aEFV"
      }
    },
    {
      "cell_type": "markdown",
      "source": [
        "\n",
        "\n",
        "---\n",
        "\n"
      ],
      "metadata": {
        "id": "ZfEKOVMzaLxV"
      }
    },
    {
      "cell_type": "markdown",
      "source": [
        "*Формат ввода*: \n",
        "1. в первой строке n, m, k. k номер вершины, n количество вершин, m количество рёбер\n",
        "2. далее на следующих m строках по три числа from, to, weight\n",
        "\n",
        "*Вывод:* n чисел, где каждое число - минимальное расстояние от вершины k до остальных"
      ],
      "metadata": {
        "id": "ZdcawrFZZI6X"
      }
    },
    {
      "cell_type": "markdown",
      "source": [
        "**Пример**\n",
        "\n",
        "\n",
        "Ввод:\n",
        "\n",
        "```\n",
        "3 3 2\n",
        "1 2 2\n",
        "2 1 2\n",
        "2 3 1\n",
        "```\n",
        "\n",
        "Вывод: ```2 0 1```"
      ],
      "metadata": {
        "id": "HgzASLxjZKVn"
      }
    },
    {
      "cell_type": "markdown",
      "source": [
        "\n",
        "\n",
        "---\n",
        "\n"
      ],
      "metadata": {
        "id": "QdfAJBYlaMn2"
      }
    },
    {
      "cell_type": "markdown",
      "source": [
        "Функция для расчётов"
      ],
      "metadata": {
        "id": "K-gvvV5hYPmk"
      }
    },
    {
      "cell_type": "code",
      "source": [
        "def BFS(gr, node, n):\n",
        "  visited = [node]\n",
        "  queue = [[node, 0]]\n",
        "  result = []\n",
        "  last_neigh = []\n",
        "  ordered = []\n",
        "\n",
        "  while queue:\n",
        "    curr = queue.pop(0)\n",
        "    if (curr[0] == node) and (curr[1] != 0):\n",
        "      pass\n",
        "    else:\n",
        "      result.append(curr)\n",
        "\n",
        "    for neigh in gr[curr[0]]:\n",
        "      if neigh[0] not in visited:\n",
        "        visited.append(neigh[0])\n",
        "        if (curr[0] == node):\n",
        "          queue.append(neigh)\n",
        "        else:\n",
        "          queue.append([neigh[0], neigh[1] + last_neigh[1]])\n",
        "      last_neigh = neigh\n",
        "\n",
        "  for x in range(1, n + 1):\n",
        "    p = x\n",
        "    for j in result:\n",
        "      if int(j[0]) == x:\n",
        "        ordered.append(j)\n",
        "        p = -1\n",
        "    if (p == x):\n",
        "      ordered.append([str(x), 'нет'])\n",
        "\n",
        "\n",
        "  for x in ordered:\n",
        "    print(x[1], end=' ')"
      ],
      "metadata": {
        "id": "7hI-_pTaTl63"
      },
      "execution_count": 22,
      "outputs": []
    },
    {
      "cell_type": "markdown",
      "source": [
        "Пример"
      ],
      "metadata": {
        "id": "D68X4casgdtf"
      }
    },
    {
      "cell_type": "code",
      "execution_count": 25,
      "metadata": {
        "colab": {
          "base_uri": "https://localhost:8080/"
        },
        "id": "LxCdyN34Y-ek",
        "outputId": "0cf94567-fc7e-4250-94a2-d56210492c7f"
      },
      "outputs": [
        {
          "output_type": "stream",
          "name": "stdout",
          "text": [
            "3 3 2\n",
            "1 2 2\n",
            "2 1 2\n",
            "2 3 1\n",
            " \n",
            "2 0 1 "
          ]
        }
      ],
      "source": [
        "# пример 1 (из тз)\n",
        "\n",
        "n, m, k = (map(int, input().split(' ')))\n",
        "rows = []\n",
        "graph = {}\n",
        "\n",
        "for i in range(m):\n",
        "  rows.append(list(map(int, input().split(' '))))\n",
        "\n",
        "gr = [str(x) for x in range(1, m + 1)]\n",
        "\n",
        "for x in gr:\n",
        "  graph[x[0]] = []\n",
        "\n",
        "for r in rows:\n",
        "  graph[str(r[0])].append([str(r[1]), r[2]])\n",
        "\n",
        "print(' ')\n",
        "\n",
        "BFS(graph, str(k), n)\n"
      ]
    }
  ]
}
