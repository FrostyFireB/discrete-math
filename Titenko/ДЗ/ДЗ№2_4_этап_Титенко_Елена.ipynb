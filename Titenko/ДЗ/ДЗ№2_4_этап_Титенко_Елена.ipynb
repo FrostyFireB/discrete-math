{
  "nbformat": 4,
  "nbformat_minor": 0,
  "metadata": {
    "colab": {
      "name": "ДЗ№2_4_этап_Титенко_Елена",
      "provenance": [],
      "authorship_tag": "ABX9TyPUgHiLkrhfUoVrw83+Nodi",
      "include_colab_link": true
    },
    "kernelspec": {
      "name": "python3",
      "display_name": "Python 3"
    },
    "language_info": {
      "name": "python"
    }
  },
  "cells": [
    {
      "cell_type": "markdown",
      "metadata": {
        "id": "view-in-github",
        "colab_type": "text"
      },
      "source": [
        "<a href=\"https://colab.research.google.com/github/oxxawsm/discrete-math/blob/main/%D0%94%D0%97%E2%84%962_4_%D1%8D%D1%82%D0%B0%D0%BF_%D0%A2%D0%B8%D1%82%D0%B5%D0%BD%D0%BA%D0%BE_%D0%95%D0%BB%D0%B5%D0%BD%D0%B0.ipynb\" target=\"_parent\"><img src=\"https://colab.research.google.com/assets/colab-badge.svg\" alt=\"Open In Colab\"/></a>"
      ]
    },
    {
      "cell_type": "markdown",
      "source": [
        "# Алгоритм Хаффмана"
      ],
      "metadata": {
        "id": "h4xgno6MncjH"
      }
    },
    {
      "cell_type": "markdown",
      "source": [
        "\n",
        "\n",
        "---\n",
        "\n"
      ],
      "metadata": {
        "id": "il5fBnZanlo7"
      }
    },
    {
      "cell_type": "markdown",
      "source": [
        "# 4 этап"
      ],
      "metadata": {
        "id": "aks2jTqwnhx8"
      }
    },
    {
      "cell_type": "code",
      "execution_count": 3,
      "metadata": {
        "id": "HvTX5O1ZlCQQ"
      },
      "outputs": [],
      "source": [
        "# импорты для работы с мин. кучей и словарь со счётчиком\n",
        "\n",
        "import heapq\n",
        "from collections import Counter\n",
        "from collections import namedtuple"
      ]
    },
    {
      "cell_type": "markdown",
      "source": [
        "\n",
        "\n",
        "---\n",
        "\n"
      ],
      "metadata": {
        "id": "scvLtwb2oAq2"
      }
    },
    {
      "cell_type": "markdown",
      "source": [
        "Класс для хранения информации о структуре дерева"
      ],
      "metadata": {
        "id": "OhMK8HAmpYoW"
      }
    },
    {
      "cell_type": "code",
      "source": [
        "class Node(namedtuple('Node', ['left', 'right'])):\n",
        "  def Walking(self, code, acc):\n",
        "    self.left.Walking(code, acc + '0')\n",
        "    self.right.Walking(code, acc + '1')"
      ],
      "metadata": {
        "id": "7JdKUTOhoBXz"
      },
      "execution_count": 4,
      "outputs": []
    },
    {
      "cell_type": "markdown",
      "source": [
        "Класс для листьев дерева"
      ],
      "metadata": {
        "id": "D9VzS4GMperN"
      }
    },
    {
      "cell_type": "code",
      "source": [
        "class Leaves(namedtuple('leaf', ['char'])):\n",
        "  def Walking(self, code, acc):\n",
        "    code[self.char] = acc or '0'"
      ],
      "metadata": {
        "id": "ppIi6s1IphzG"
      },
      "execution_count": 5,
      "outputs": []
    },
    {
      "cell_type": "markdown",
      "source": [
        "Функция кодирования символов"
      ],
      "metadata": {
        "id": "cGnuqJTKp6Yu"
      }
    },
    {
      "cell_type": "code",
      "source": [
        "def Encode(s):\n",
        "  hmas = []\n",
        "\n",
        "  for ch, freq in Counter(s).items():\n",
        "    hmas.append((freq, len(hmas), Leaves(ch)))\n",
        "  heapq.heapify(hmas)\n",
        "  c = len(hmas)\n",
        "\n",
        "  while len(hmas) > 1:\n",
        "    fr1, c1, left = heapq.heappop(hmas)\n",
        "    fr2, c2, right = heapq.heappop(hmas)\n",
        "    heapq.heappush(hmas, (fr1 + fr2, c, Node(left, right)))\n",
        "    c += 1\n",
        "\n",
        "  code = {}\n",
        "\n",
        "  if hmas:\n",
        "    [(_freq, _c, root)] = hmas\n",
        "    root.Walking(code, '')\n",
        "\n",
        "  return code"
      ],
      "metadata": {
        "id": "--KFkWnep84U"
      },
      "execution_count": 9,
      "outputs": []
    },
    {
      "cell_type": "markdown",
      "source": [
        "Функция для считывания введённых символов и выведения закодированной информации"
      ],
      "metadata": {
        "id": "WmgREerdroZX"
      }
    },
    {
      "cell_type": "code",
      "source": [
        "def Main():\n",
        "  s = input()\n",
        "  code = Encode(s)\n",
        "  encoded = ''.join(code[ch] for ch in s)\n",
        "\n",
        "  for ch in sorted(code):\n",
        "    print('{}: {}'.format(ch, code[ch]))\n",
        "  print(encoded)"
      ],
      "metadata": {
        "id": "vxnwQQt5r1Rz"
      },
      "execution_count": 14,
      "outputs": []
    },
    {
      "cell_type": "markdown",
      "source": [
        "Пример выполнения"
      ],
      "metadata": {
        "id": "shXFk92_vM1d"
      }
    },
    {
      "cell_type": "code",
      "source": [
        "Main()"
      ],
      "metadata": {
        "colab": {
          "base_uri": "https://localhost:8080/"
        },
        "id": "WnUVk86RspHi",
        "outputId": "037ec3b7-ca29-4534-afa8-e58b42f12c6b"
      },
      "execution_count": 15,
      "outputs": [
        {
          "output_type": "stream",
          "name": "stdout",
          "text": [
            "абдддддддд\n",
            "а: 00\n",
            "б: 01\n",
            "д: 1\n",
            "000111111111\n"
          ]
        }
      ]
    },
    {
      "cell_type": "markdown",
      "source": [
        "Ещё пример"
      ],
      "metadata": {
        "id": "sOlkUKipvQrg"
      }
    },
    {
      "cell_type": "code",
      "source": [
        "Main()"
      ],
      "metadata": {
        "colab": {
          "base_uri": "https://localhost:8080/"
        },
        "id": "3s2V2-4YvMPN",
        "outputId": "da485235-3045-4568-a60d-c06ce93276dc"
      },
      "execution_count": 17,
      "outputs": [
        {
          "output_type": "stream",
          "name": "stdout",
          "text": [
            "дискретная математика\n",
            " : 1001\n",
            "а: 110\n",
            "д: 0100\n",
            "е: 000\n",
            "и: 1110\n",
            "к: 1111\n",
            "м: 001\n",
            "н: 0111\n",
            "р: 0110\n",
            "с: 0101\n",
            "т: 101\n",
            "я: 1000\n",
            "0100111001011111011000010101111101000100100111010100000111010111101111110\n"
          ]
        }
      ]
    }
  ]
}
