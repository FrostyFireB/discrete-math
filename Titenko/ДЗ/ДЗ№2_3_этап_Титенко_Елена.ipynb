{
  "nbformat": 4,
  "nbformat_minor": 0,
  "metadata": {
    "colab": {
      "name": "ДЗ№2_3_этап_Титенко_Елена",
      "provenance": [],
      "authorship_tag": "ABX9TyPYy/0KaTAp0QzSp9DQVxHV",
      "include_colab_link": true
    },
    "kernelspec": {
      "name": "python3",
      "display_name": "Python 3"
    },
    "language_info": {
      "name": "python"
    }
  },
  "cells": [
    {
      "cell_type": "markdown",
      "metadata": {
        "id": "view-in-github",
        "colab_type": "text"
      },
      "source": [
        "<a href=\"https://colab.research.google.com/github/oxxawsm/discrete-math/blob/main/%D0%94%D0%97%E2%84%962_3_%D1%8D%D1%82%D0%B0%D0%BF_%D0%A2%D0%B8%D1%82%D0%B5%D0%BD%D0%BA%D0%BE_%D0%95%D0%BB%D0%B5%D0%BD%D0%B0.ipynb\" target=\"_parent\"><img src=\"https://colab.research.google.com/assets/colab-badge.svg\" alt=\"Open In Colab\"/></a>"
      ]
    },
    {
      "cell_type": "markdown",
      "source": [
        "# Проверятор по графу"
      ],
      "metadata": {
        "id": "klSQ5-S52uDf"
      }
    },
    {
      "cell_type": "code",
      "execution_count": 1,
      "metadata": {
        "id": "2Ka3Snln2c_X"
      },
      "outputs": [],
      "source": [
        "import numpy as np"
      ]
    },
    {
      "cell_type": "markdown",
      "source": [
        "\n",
        "\n",
        "---\n",
        "\n"
      ],
      "metadata": {
        "id": "vPd5mHd02z53"
      }
    },
    {
      "cell_type": "markdown",
      "source": [
        "# 3 этап"
      ],
      "metadata": {
        "id": "zmyxMGJ020vo"
      }
    },
    {
      "cell_type": "markdown",
      "source": [
        "Проверятор по данному графу его симметричности, транзитивности, рефлексивности, антитранзитивности, антирефлексивности, антисимметричности"
      ],
      "metadata": {
        "id": "Zs0jKvwJ3B6r"
      }
    },
    {
      "cell_type": "markdown",
      "source": [
        "  **❗Для работы проверятора следует запустить функции из раздела \"Функции\" ниже❗**\n",
        "\n",
        "*Формат ввода*: \n",
        "\n",
        "-> два числа (Первое --- число вершин в графе. Второе --- число ребер)\n",
        "\n",
        "-> список из ребер, каждое из которых соединяет пару чисел\n",
        "\n",
        "Ребра нумеруются с 0."
      ],
      "metadata": {
        "id": "JHXDeN-P235U"
      }
    },
    {
      "cell_type": "code",
      "source": [
        "paired_nums = graph()\n",
        "print(symmetric(paired_nums))\n",
        "print(antisymmetric(paired_nums))\n",
        "print(transitivity(paired_nums))\n",
        "print(reflexivity(paired_nums))"
      ],
      "metadata": {
        "colab": {
          "base_uri": "https://localhost:8080/"
        },
        "id": "bwZ6w4e-4hj2",
        "outputId": "11078649-c5e0-46fa-ab2b-9e3bd796db01"
      },
      "execution_count": 58,
      "outputs": [
        {
          "output_type": "stream",
          "name": "stdout",
          "text": [
            "3 3\n",
            "0 1\n",
            "1 2\n",
            "2 0\n",
            "\n",
            "антисимметрично\n",
            "транзитивно\n",
            "антирефлексивно\n"
          ]
        }
      ]
    },
    {
      "cell_type": "markdown",
      "source": [
        "# Функции"
      ],
      "metadata": {
        "id": "DsYvxOQED9NB"
      }
    },
    {
      "cell_type": "markdown",
      "source": [
        "Проверка на симметричность"
      ],
      "metadata": {
        "id": "vYzsFQl3Eb7l"
      }
    },
    {
      "cell_type": "code",
      "source": [
        "def symmetric(paired_nums):\n",
        "  comparison = []\n",
        "  for pair in paired_nums:\n",
        "    pair = reversed(pair)\n",
        "    comparison.append(list(pair))\n",
        "  \n",
        "  for pair in comparison:\n",
        "    if not pair in paired_nums:\n",
        "      return ''\n",
        "    else:\n",
        "      return 'симметрично'"
      ],
      "metadata": {
        "id": "LblrKvA93V3N"
      },
      "execution_count": 57,
      "outputs": []
    },
    {
      "cell_type": "markdown",
      "source": [
        "Проверка на антисимметричность"
      ],
      "metadata": {
        "id": "XpW3JivoEewR"
      }
    },
    {
      "cell_type": "code",
      "source": [
        "def antisymmetric(paired_nums):\n",
        "    comparison = []\n",
        "    symmetric_count = 0\n",
        "    not_symmetric_count = 0\n",
        "    \n",
        "    for pair in paired_nums:\n",
        "      pair = reversed(pair)\n",
        "      comparison.append(list(pair))\n",
        "\n",
        "    for pair in comparison:\n",
        "        if pair in paired_nums:\n",
        "            if pair[0] == pair[1]:\n",
        "                symmetric_count += 1\n",
        "            else:\n",
        "                not_symmetric_count += 1\n",
        "\n",
        "    if not_symmetric_count != 0:\n",
        "      answer = 'асимметрично'\n",
        "    elif symmetric_count != 0 and not_symmetric_count == 0:\n",
        "      answer = 'антисимметрично'\n",
        "    else:\n",
        "      answer = ''\n",
        "        \n",
        "    return answer"
      ],
      "metadata": {
        "id": "vO1runzR7fXX"
      },
      "execution_count": 61,
      "outputs": []
    },
    {
      "cell_type": "markdown",
      "source": [
        "Проверка на транзитивность и антитранзитивность"
      ],
      "metadata": {
        "id": "j4qyvZOfEsn9"
      }
    },
    {
      "cell_type": "code",
      "source": [
        "def transitivity(paired_nums):\n",
        "  elem = []\n",
        "\n",
        "  for pair in paired_nums:\n",
        "    for (pair[0], pair[1]) in paired_nums:\n",
        "      elem.append(pair[1])\n",
        "\n",
        "      for (pair[0], pair[1]) in paired_nums:\n",
        "        for third in elem:\n",
        "          if (pair[0], third) not in paired_nums and (pair[1], third) in paired_nums:\n",
        "            return 'антитранзитивно'\n",
        "      return 'транзитивно'\n"
      ],
      "metadata": {
        "id": "lNOfxy5uEDxw"
      },
      "execution_count": 53,
      "outputs": []
    },
    {
      "cell_type": "markdown",
      "source": [
        "Проверка на рефлексивность и антирефлексивность"
      ],
      "metadata": {
        "id": "X9M9fHARJs55"
      }
    },
    {
      "cell_type": "code",
      "source": [
        "def reflexivity(paired_nums):\n",
        "  vert = []\n",
        "  c = 0\n",
        "  for pair in paired_nums:\n",
        "    vert.append([pair, pair])\n",
        "  for pair in vert:\n",
        "    if pair in paired_nums:\n",
        "      c += 1\n",
        "  \n",
        "  if c == len(paired_nums):\n",
        "    return 'рефлексивно'\n",
        "  else:\n",
        "    return 'антирефлексивно'\n"
      ],
      "metadata": {
        "id": "a5CTqs7NIZ3V"
      },
      "execution_count": 55,
      "outputs": []
    },
    {
      "cell_type": "markdown",
      "source": [
        "Функция ввода данных"
      ],
      "metadata": {
        "id": "emlEI1T2-lss"
      }
    },
    {
      "cell_type": "code",
      "source": [
        "def graph():\n",
        "  input_data = list(map(int, input().split()))\n",
        "  paired_nums = []\n",
        "\n",
        "  for i in range(input_data[1]):\n",
        "    paired_nums.append(list(map(int, input().split())))\n",
        "  return paired_nums"
      ],
      "metadata": {
        "id": "bxVz5wRo4k82"
      },
      "execution_count": 8,
      "outputs": []
    }
  ]
}
