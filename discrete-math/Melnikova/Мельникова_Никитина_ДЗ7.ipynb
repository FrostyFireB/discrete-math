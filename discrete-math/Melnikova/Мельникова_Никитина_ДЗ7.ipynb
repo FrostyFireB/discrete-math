{
  "nbformat": 4,
  "nbformat_minor": 0,
  "metadata": {
    "colab": {
      "name": "Мельникова_Никитина_ДЗ7.ipynb",
      "provenance": [],
      "collapsed_sections": [],
      "authorship_tag": "ABX9TyNG3LhoxnIx9SHlsJSULIOJ",
      "include_colab_link": true
    },
    "kernelspec": {
      "name": "python3",
      "display_name": "Python 3"
    },
    "language_info": {
      "name": "python"
    }
  },
  "cells": [
    {
      "cell_type": "markdown",
      "metadata": {
        "id": "view-in-github",
        "colab_type": "text"
      },
      "source": [
        "<a href=\"https://colab.research.google.com/github/lnik-m/discrete-math/blob/main/discrete-math/Melnikova/%D0%9C%D0%B5%D0%BB%D1%8C%D0%BD%D0%B8%D0%BA%D0%BE%D0%B2%D0%B0_%D0%9D%D0%B8%D0%BA%D0%B8%D1%82%D0%B8%D0%BD%D0%B0_%D0%94%D0%977.ipynb\" target=\"_parent\"><img src=\"https://colab.research.google.com/assets/colab-badge.svg\" alt=\"Open In Colab\"/></a>"
      ]
    },
    {
      "cell_type": "markdown",
      "source": [
        "Найти минимальные расстояния в орграфе от некоторой вершины до всех остальных при помощи алгоритма dfs. Ребра могут иметь вес 1 или 2\n",
        "\n",
        "Формат ввода: в первой строке n, m, k. k номер вершины, n количество вершин, m количество рёбер. На следующих m строках по три числа from, to, weight\n",
        "\n",
        "Пример ввода:\n",
        "```\n",
        "3 3 2\n",
        "1 2 2\n",
        "2 1 2\n",
        "2 3 1\n",
        "```\n",
        "Формат вывода: n чисел где каждое число это минимальное расстояние от вершины k до остальных\n",
        "\n",
        "Пример вывода:\n",
        "```\n",
        "2 0 1\n",
        "```"
      ],
      "metadata": {
        "id": "uumbUfSEKHkx"
      }
    },
    {
      "cell_type": "code",
      "source": [
        "#@title Поиск минимальных расстояний\n",
        "\n",
        "n =  3#@param {type:\"integer\"}\n",
        "m =  3#@param {type:\"integer\"}\n",
        "k =  2#@param {type:\"integer\"}\n",
        "#@markdown ### Будете вводить собственный граф?\n",
        "boolean_dropdown = '\\u041D\\u0435\\u0442' #@param [\"Да\", \"Нет\"] {type:\"string\"}\n",
        "\n",
        "if boolean_dropdown=='Да':\n",
        "  input_list = []\n",
        "  for i in range(n):\n",
        "    input_list.append(list(map(int, input().split(' '))))\n",
        "else:\n",
        "  input_list = [[1, 2, 2], [2, 1, 2], [2, 3, 1]]\n",
        "\n",
        "INF=999\n",
        "G = [[INF for i in range(n)] for i in range(n)]\n",
        "\n",
        "for row in input_list:\n",
        "  G[row[0]-1][row[1]-1] = row[2]\n",
        "\n",
        "for i in range(n):\n",
        "  for j in range(n):\n",
        "    if i==j:\n",
        "      G[i][j] = 0\n",
        "\n",
        "def my_dfs(G):\n",
        "    dist = list(map(lambda p: list(map(lambda q: q, p)), G))\n",
        "    for r in range(n):\n",
        "        for p in range(n):\n",
        "            for q in range(n):\n",
        "                dist[p][q] = min(dist[p][q], dist[p][r] + dist[r][q])\n",
        "\n",
        "    for p in range(n):\n",
        "      for q in range(n):\n",
        "        if(dist[p][q] == INF):\n",
        "          dist[p][q] = '-'\n",
        "    return dist\n",
        "\n",
        "print(*my_dfs(G)[k-1])"
      ],
      "metadata": {
        "colab": {
          "base_uri": "https://localhost:8080/"
        },
        "cellView": "form",
        "id": "V2Nop3dVJNc8",
        "outputId": "4d24682a-e36c-4111-c49f-ef3da2a9243c"
      },
      "execution_count": 34,
      "outputs": [
        {
          "output_type": "stream",
          "name": "stdout",
          "text": [
            "2 0 1\n"
          ]
        }
      ]
    }
  ]
}